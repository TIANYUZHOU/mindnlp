{
 "cells": [
  {
   "cell_type": "code",
   "execution_count": null,
   "metadata": {},
   "outputs": [],
   "source": [
    "with open(\"data/test.tsv\", \"r\", encoding=\"utf-8\") as f:\n",
    "    dataset = f.read()\n",
    "lines = dataset.split(\"\\n\")\n",
    "\n",
    "for line in lines[1:-1]:\n",
    "    # print(line.split('\\t'))\n",
    "    # print(line.split('\\t')[0])\n",
    "    # print(line.split('\\t')[1].split(' '))\n",
    "    label, text_a = line.split(\"\\t\")\n",
    "    print(label,text_a)\n",
    "    "
   ]
  },
  {
   "cell_type": "code",
   "execution_count": 7,
   "metadata": {},
   "outputs": [
    {
     "data": {
      "text/plain": [
       "{'label': Tensor(shape=[32], dtype=Int64, value= [1, 1, 1, 1, 1, 1, 0, 1, 1, 1, 1, 0, 1, 1, 1, 1, 0, 1, 1, 1, 1, 0, 1, 1, \n",
       "  1, 1, 1, 1, 1, 1, 1, 1]),\n",
       " 'text_a': Tensor(shape=[32, 128], dtype=Int64, value=\n",
       " [[ 101,  872, 4638 ...    0,    0,    0],\n",
       "  [ 101, 1420, 6432 ...    0,    0,    0],\n",
       "  [ 101,  872, 2823 ...    0,    0,    0],\n",
       "  ...\n",
       "  [ 101, 2769, 3291 ...    0,    0,    0],\n",
       "  [ 101, 1520, 1520 ...    0,    0,    0],\n",
       "  [ 101, 4130, 2404 ...    0,    0,    0]])}"
      ]
     },
     "execution_count": 7,
     "metadata": {},
     "output_type": "execute_result"
    }
   ],
   "source": [
    "import os\n",
    "import numpy as np\n",
    "\n",
    "import mindspore\n",
    "from mindspore.dataset import text,GeneratorDataset\n",
    "from mindspore import nn\n",
    "from mindnlp.models import BertModel, BertConfig\n",
    "from mindnlp.transforms.tokenizers import BertTokenizer\n",
    "from mindnlp.transforms import PadTransform\n",
    "\n",
    "class SentimentDataset:\n",
    "    \"\"\"Sentiment Dataset\"\"\"\n",
    "    def __init__(self, path):\n",
    "        self.path = path\n",
    "        self._labels, self._text_a= [], []\n",
    "        self._load()\n",
    "\n",
    "    def _load(self):\n",
    "        with open(self.path, \"r\", encoding=\"utf-8\") as f:\n",
    "            dataset = f.read()\n",
    "        lines = dataset.split(\"\\n\")\n",
    "        for line in lines[1:-1]:\n",
    "            label, text_a = line.split(\"\\t\")\n",
    "            self._labels.append(int(label))\n",
    "            self._text_a.append(text_a)\n",
    "\n",
    "    def __getitem__(self, index):\n",
    "        return self._labels[index], self._text_a[index]\n",
    "\n",
    "    def __len__(self):\n",
    "        return len(self._labels)\n",
    "\n",
    "column_names = [\"label\", \"text_a\"]\n",
    "\n",
    "dataset_train = GeneratorDataset(source=SentimentDataset(\"data/train.tsv\"), \n",
    "                                 column_names=column_names, shuffle=False)\n",
    "\n",
    "dataset_val = GeneratorDataset(source=SentimentDataset(\"data/dev.tsv\"),\n",
    "                               column_names=column_names, shuffle=False)\n",
    "\n",
    "dataset_test = GeneratorDataset(source=SentimentDataset(\"data/test.tsv\"),\n",
    "                                column_names=column_names, shuffle=False)\n",
    "\n",
    "test = dataset_test.create_dict_iterator()\n",
    "\n",
    "train = dataset_train.create_dict_iterator()\n",
    "\n",
    "vocab_path = os.path.join(\"/home/tianyuzhou/.mindnlp/workflow/sentiment_analysis/bert\", \"vocab.txt\")\n",
    "vocab = text.Vocab.from_file(vocab_path)\n",
    "pad_value_text = vocab.tokens_to_ids('[PAD]')\n",
    "\n",
    "tokenizer = BertTokenizer(vocab)\n",
    "\n",
    "# dataset_train = dataset_train.map(operations=[tokenizer], input_columns=\"text_a\")\n",
    "\n",
    "pad_op_text = PadTransform(max_length=128, pad_value=pad_value_text)\n",
    "\n",
    "dataset_train = dataset_train.map(operations=[tokenizer,pad_op_text], input_columns=\"text_a\")\n",
    "dataset_train = dataset_train.batch(32)\n",
    "\n",
    "train = dataset_train.create_dict_iterator()\n",
    "\n",
    "# max_length = 0\n",
    "# for i in train:\n",
    "#     if len(i[\"text_a\"]) > max_length:\n",
    "#         max_length = len(i[\"text_a\"])\n",
    "\n",
    "# print(max_length)\n",
    "next(train)"
   ]
  }
 ],
 "metadata": {
  "kernelspec": {
   "display_name": "mindspore",
   "language": "python",
   "name": "python3"
  },
  "language_info": {
   "codemirror_mode": {
    "name": "ipython",
    "version": 3
   },
   "file_extension": ".py",
   "mimetype": "text/x-python",
   "name": "python",
   "nbconvert_exporter": "python",
   "pygments_lexer": "ipython3",
   "version": "3.7.13"
  },
  "orig_nbformat": 4
 },
 "nbformat": 4,
 "nbformat_minor": 2
}
